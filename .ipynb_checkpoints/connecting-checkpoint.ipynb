{
 "cells": [
  {
   "cell_type": "code",
   "execution_count": 48,
   "metadata": {},
   "outputs": [],
   "source": [
    "# standard\n",
    "import numpy as np\n",
    "import pandas as pd\n",
    "\n",
    "# web scraping stuff\n",
    "from selenium import webdriver\n",
    "from selenium.webdriver.chrome.options import Options\n",
    "from selenium.webdriver.common.keys import Keys\n",
    "from selenium.webdriver.chrome.service import Service\n",
    "from selenium.webdriver.common.by import By\n",
    "from selenium.webdriver.common.action_chains import ActionChains\n",
    "\n",
    "import requests\n",
    "\n",
    "# Misc\n",
    "import cv2 # for image processing\n",
    "import mss # for screenshots and stuff\n",
    "import regex # regex\n",
    "\n",
    "# # Inbuilt libraries\n",
    "import copy\n",
    "import time\n",
    "import json\n",
    "import os"
   ]
  },
  {
   "cell_type": "markdown",
   "metadata": {},
   "source": [
    "FOR WINDOWS:"
   ]
  },
  {
   "cell_type": "markdown",
   "metadata": {},
   "source": [
    "cd C:\\Program Files (x86)\\Google\\Chrome\\Application\n",
    "\n",
    "chrome.exe --remote-debugging-port=9250 --user-data-dir=\"c:\\users\\Charl\\chromedriver\"\n",
    "\n",
    "url = \"https://lichess.org\"\n",
    "ser = Service(\"C:\\\\Users\\\\Charl\\\\chromedriver.exe\")\n",
    "opts = Options()\n",
    "opts.add_experimental_option('debuggerAddress', 'localhost:9250')\n",
    "driver = webdriver.Chrome(service= ser, options=opts)\n",
    "driver.get(url)\n"
   ]
  },
  {
   "cell_type": "code",
   "execution_count": 49,
   "metadata": {},
   "outputs": [],
   "source": [
    "# Also need stockfish, follow instructions here\n",
    "# https://pypi.org/project/stockfish/\n",
    "# For mac os do brew install, then just stockfish()\n",
    "# for windows you need to specifiy the binary path"
   ]
  },
  {
   "cell_type": "code",
   "execution_count": 50,
   "metadata": {},
   "outputs": [],
   "source": [
    "# Stockfish\n",
    "from stockfish import Stockfish\n",
    "stockfish = Stockfish()\n",
    "\n",
    "# path=\"stockfish//stockfish_14.exe\")"
   ]
  },
  {
   "cell_type": "code",
   "execution_count": 51,
   "metadata": {},
   "outputs": [],
   "source": [
    "# you need to download chrome driver from here, and point to where you saved it\n",
    "# https://chromedriver.chromium.org/downloads\n",
    "# just save it in the folder and the below script should run"
   ]
  },
  {
   "cell_type": "code",
   "execution_count": 39,
   "metadata": {
    "tags": []
   },
   "outputs": [],
   "source": [
    "ser = Service(executable_path= os.getcwd() + \"/chromedriver\") \n",
    "opts = Options()\n",
    "opts.add_argument(\"user-data-dir=selenium\") \n",
    "driver = webdriver.Chrome(service= ser, options=opts)\n",
    "driver.get('https://lichess.org')\n",
    "time.sleep(5)"
   ]
  },
  {
   "cell_type": "code",
   "execution_count": 40,
   "metadata": {},
   "outputs": [],
   "source": [
    "def find_square_size():\n",
    "    '''Gets the width of a squard in pixels, for use later\n",
    "    returns: float or int of square width'''\n",
    "    height_and_width = driver.find_element(By.XPATH, \"//cg-container\").get_attribute('style')\n",
    "    board_size = float(height_and_width.split(' ')[1].split('px')[0])\n",
    "    \n",
    "    # If board size is divisble by 8, then return integer, else return float.\n",
    "    # need to test with float sizez\n",
    "    \n",
    "    square_size = board_size / 8\n",
    "    \n",
    "    \n",
    "    return int(square_size) if board_size % 8 == 0 else float(square_size) # else what?"
   ]
  },
  {
   "cell_type": "code",
   "execution_count": 41,
   "metadata": {},
   "outputs": [],
   "source": [
    "def find_color():\n",
    "    '''Finds the color we are and returns it (white / black)'''\n",
    "    find_piece_example = \"//cg-board/piece[contains (@style, '(0px, 0px')]\"\n",
    "\n",
    "    find_color_white = \"//div[@class='round__app__board main-board']/div [contains (@class, 'white')]\"\n",
    "    find_color_black = \"//div[@class='round__app__board main-board']/div [contains (@class, 'black')]\"\n",
    "\n",
    "    try:\n",
    "        driver.find_element(By.XPATH, find_color_white)\n",
    "        color = 'white'\n",
    "    except Exception:\n",
    "        try:\n",
    "            driver.find_element(By.XPATH, find_color_black)\n",
    "            color ='black'\n",
    "        except Exception:\n",
    "            return False\n",
    "            \n",
    "\n",
    "    return color"
   ]
  },
  {
   "cell_type": "code",
   "execution_count": 42,
   "metadata": {},
   "outputs": [],
   "source": [
    "def get_move_dicts(color):\n",
    "    '''Generates square: pixel value mappings\n",
    "    \n",
    "    args: \n",
    "        color (string): color we are (white / black)\n",
    "        \n",
    "    returns:\n",
    "        dict of mappings + reversed dict'''\n",
    "    if color == 'white':\n",
    "        move_dict = {}\n",
    "        for letter_index, letter in enumerate(['a', 'b', 'c', 'd', 'e', 'f', 'g','h']):\n",
    "            for number_index, number in enumerate([str(i) for i in range(8, 0, -1)]):\n",
    "\n",
    "                row_px = letter_index * square_size\n",
    "                col_px = number_index * square_size\n",
    "                move_dict[letter + number] = f'({row_px:.0f}px, {col_px:.0f}px)'\n",
    "\n",
    "    elif color == 'black':\n",
    "        move_dict = {}\n",
    "        for letter_index, letter in enumerate(['h', 'g', 'f', 'e', 'd', 'c', 'b' ,'a']):\n",
    "            for number_index, number in enumerate([str(i) for i in range(1, 9)]):\n",
    "\n",
    "                row_px = letter_index * square_size\n",
    "                col_px = number_index * square_size\n",
    "                move_dict[letter + number] = f'({row_px:.0f}px, {col_px:.0f}px)'\n",
    "\n",
    "    move_dict_reversed = {value: key for key, value in move_dict.items()}\n",
    "    \n",
    "    return move_dict, move_dict_reversed"
   ]
  },
  {
   "cell_type": "code",
   "execution_count": 43,
   "metadata": {},
   "outputs": [],
   "source": [
    "def make_move(move, move_dict):\n",
    "    '''Executes the desired move on lichess\n",
    "    args:\n",
    "        [move]: string of 4 characters e.g a2a4'''\n",
    "    # Chain of events. add events then perform all with action.perform()\n",
    "    action = ActionChains(driver=driver) \n",
    "    \n",
    "    start_square = move[:2]\n",
    "    end_square = move[2:4]\n",
    "    \n",
    "    # Find pixel values\n",
    "    start_pixel_value = move_dict[start_square]\n",
    "    end_pixel_values = move_dict[end_square]\n",
    "    \n",
    "    ele = driver.find_element(By.XPATH, \n",
    "                              \"//cg-container/cg-board/\" + f\"piece[contains (@style, '{start_pixel_value}')]\")\n",
    "\n",
    "    # Click and hold the piece we want to move\n",
    "    action.click(ele)\n",
    "    action.perform()\n",
    "\n",
    "    # Wait for the move markers to show up, not sure what time necessary here (maybe 0)\n",
    "    time.sleep(1)\n",
    "\n",
    "    # Below will need to change to the pixel location\n",
    "    ele2 = driver.find_element(By.XPATH,\n",
    "                               \"//cg-container/cg-board/\" + f\"square[contains (@style, '{end_pixel_values}')]\")\n",
    "\n",
    "    # Move the mouse to the end square and drop\n",
    "    #action.click_and_hold(ele)\n",
    "    action.click(ele2)\n",
    "    time.sleep(0.2)\n",
    "\n",
    "    action.perform()"
   ]
  },
  {
   "cell_type": "code",
   "execution_count": 44,
   "metadata": {},
   "outputs": [],
   "source": [
    "def check_if_my_turn():\n",
    "    '''Checks if we are to move\n",
    "    \n",
    "    First check if we have a clock, and it's running.\n",
    "    Else check if there is a 'your turn' element\n",
    "    '''\n",
    "    \n",
    "    try:\n",
    "        ele = driver.find_element(\n",
    "            By.XPATH,\n",
    "            \"//div[contains (@class, 'rclock') and contains(@class, 'rclock-bottom')]\")\n",
    "        return bool(ele.get_attribute('class'))\n",
    "    except Exception:\n",
    "        return False"
   ]
  },
  {
   "cell_type": "code",
   "execution_count": 45,
   "metadata": {},
   "outputs": [],
   "source": [
    "def get_previous_move():\n",
    "    \"\"\"Get the last move made (start & end square) if exists, else return None\"\"\"\n",
    "    try:\n",
    "        last_move_end = driver.find_element(\n",
    "            By.XPATH,\n",
    "            base_expression + \"square[contains (@class, 'last-move')][1]\"\n",
    "        ).get_attribute('style').split('translate')[1].split(';')[0]\n",
    "        \n",
    "        last_move_start = driver.find_element(\n",
    "            By.XPATH, \n",
    "            base_expression + \"square[contains (@class, 'last-move')][2]\"\n",
    "        ).get_attribute('style').split('translate')[1].split(';')[0]\n",
    "        \n",
    "        # Translating to string value now (might be unnecessary)\n",
    "        last_move_end = move_dict_reversed[last_move_end]\n",
    "        last_move_start = move_dict_reversed[last_move_start]\n",
    "        \n",
    "        return ''.join([last_move_start, last_move_end])\n",
    "    except Exception:\n",
    "        return None\n",
    "        \n"
   ]
  },
  {
   "cell_type": "markdown",
   "metadata": {},
   "source": [
    "Troubleshooting below ####"
   ]
  },
  {
   "cell_type": "code",
   "execution_count": 46,
   "metadata": {},
   "outputs": [],
   "source": [
    "# print(find_color())\n",
    "# print(check_if_my_turn())"
   ]
  },
  {
   "cell_type": "code",
   "execution_count": 47,
   "metadata": {
    "tags": []
   },
   "outputs": [
    {
     "ename": "Exception",
     "evalue": "No color found! Is the board loaded?",
     "output_type": "error",
     "traceback": [
      "\u001b[0;31m---------------------------------------------------------------------------\u001b[0m",
      "\u001b[0;31mException\u001b[0m                                 Traceback (most recent call last)",
      "Input \u001b[0;32mIn [47]\u001b[0m, in \u001b[0;36m<cell line: 4>\u001b[0;34m()\u001b[0m\n\u001b[1;32m      3\u001b[0m color \u001b[38;5;241m=\u001b[39m find_color()\n\u001b[1;32m      4\u001b[0m \u001b[38;5;28;01mif\u001b[39;00m \u001b[38;5;129;01mnot\u001b[39;00m color:\n\u001b[0;32m----> 5\u001b[0m     \u001b[38;5;28;01mraise\u001b[39;00m \u001b[38;5;167;01mException\u001b[39;00m(\u001b[38;5;124m'\u001b[39m\u001b[38;5;124mNo color found! Is the board loaded?\u001b[39m\u001b[38;5;124m'\u001b[39m)\n\u001b[1;32m      6\u001b[0m \u001b[38;5;28mprint\u001b[39m(\u001b[38;5;124m'\u001b[39m\u001b[38;5;124mOur color is \u001b[39m\u001b[38;5;124m'\u001b[39m, color)\n\u001b[1;32m      7\u001b[0m move_dict, move_dict_reversed \u001b[38;5;241m=\u001b[39m get_move_dicts(color)\n",
      "\u001b[0;31mException\u001b[0m: No color found! Is the board loaded?"
     ]
    }
   ],
   "source": [
    "previous_moves = []\n",
    "square_size = find_square_size()\n",
    "color = find_color()\n",
    "if not color:\n",
    "    raise Exception('No color found! Is the board loaded?')\n",
    "print('Our color is ', color)\n",
    "move_dict, move_dict_reversed = get_move_dicts(color)\n",
    "\n",
    "while True:\n",
    "    \n",
    "    # Check board is still loaded:\n",
    "    if not find_color():\n",
    "        print('No color found! Is the board loaded?')\n",
    "        break\n",
    "        \n",
    "    #my_turn = check_if_my_turn()\n",
    "    # Update turn by checking for previous moves?\n",
    "    if color == 'white':\n",
    "        my_turn = ((len(previous_moves) % 2) == 0)\n",
    "    if color == 'black':\n",
    "        my_turn = ((len(previous_moves) % 2) == 1)\n",
    "        \n",
    "    if not my_turn:\n",
    "        \n",
    "        last_detected_move = get_previous_move()\n",
    "        \n",
    "        # print('previous moves', previous_moves)\n",
    "        # print('last detected move', last_detected_move)\n",
    "        \n",
    "        if not last_detected_move is None: # Incase we are black and no moves yet\n",
    "            \n",
    "            # if new move then add to the list!\n",
    "            \n",
    "            \n",
    "            \n",
    "            if len(previous_moves) == 0:\n",
    "                previous_moves.append(last_detected_move)\n",
    "                \n",
    "            \n",
    "            elif last_detected_move != previous_moves[-1]:\n",
    "                previous_moves.append(last_detected_move)\n",
    "            \n",
    "            # print('last move added', previous_moves[-1])\n",
    "        \n",
    "\n",
    "    if my_turn:\n",
    "            \n",
    "        while True:\n",
    "\n",
    "            stockfish.set_position(previous_moves)\n",
    "            while True:\n",
    "                new_move = input('give me the next move plz')\n",
    "                \n",
    "                # If valid move then carry on\n",
    "                if isinstance(new_move, str) & (len(new_move) == 4):\n",
    "                    break \n",
    "\n",
    "            is_correct_move = stockfish.is_move_correct(new_move)\n",
    "            if is_correct_move:\n",
    "                make_move(new_move, move_dict)\n",
    "                previous_moves.append(new_move)\n",
    "                break\n",
    "            else:\n",
    "                print('wrong move')"
   ]
  },
  {
   "cell_type": "code",
   "execution_count": null,
   "metadata": {},
   "outputs": [],
   "source": [
    "def run_checks(previous_moves=[]):\n",
    "    \n",
    "    print('my color', find_color())\n",
    "    print('is my turn?', check_if_my_turn())\n",
    "    print('previous moves:', previous_moves)\n",
    "    print('square_size', find_square_size())\n",
    "    print('last detected_move', get_previous_move())\n",
    "    \n",
    "try:\n",
    "    run_checks(previous_moves)\n",
    "except NameErorr:\n",
    "    run_checks()"
   ]
  },
  {
   "cell_type": "code",
   "execution_count": null,
   "metadata": {},
   "outputs": [],
   "source": [
    "# bug on pawn moving from c7 to f3, when it actually moved from c7 to c5"
   ]
  }
 ],
 "metadata": {
  "kernelspec": {
   "display_name": "Python 3 (ipykernel)",
   "language": "python",
   "name": "python3"
  },
  "language_info": {
   "codemirror_mode": {
    "name": "ipython",
    "version": 3
   },
   "file_extension": ".py",
   "mimetype": "text/x-python",
   "name": "python",
   "nbconvert_exporter": "python",
   "pygments_lexer": "ipython3",
   "version": "3.9.12"
  }
 },
 "nbformat": 4,
 "nbformat_minor": 4
}
