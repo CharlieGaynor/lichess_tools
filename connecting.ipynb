{
 "cells": [
  {
   "cell_type": "code",
   "execution_count": 69,
   "metadata": {},
   "outputs": [],
   "source": [
    "# standard\n",
    "import numpy as np\n",
    "import pandas as pd\n",
    "\n",
    "# web scraping stuff\n",
    "from selenium import webdriver\n",
    "from selenium.webdriver.chrome.options import Options\n",
    "from selenium.webdriver.common.keys import Keys\n",
    "from selenium.webdriver.chrome.service import Service\n",
    "from selenium.webdriver.common.by import By\n",
    "from selenium.webdriver.common.action_chains import ActionChains\n",
    "\n",
    "import requests\n",
    "\n",
    "# Stockfish\n",
    "from stockfish import Stockfish\n",
    "stockfish = Stockfish(path=\"stockfish//stockfish_14.exe\")\n",
    "\n",
    "# Misc\n",
    "import cv2 # for image processing\n",
    "import mss # for screenshots and stuff\n",
    "\n",
    "# Inbuilt libraries\n",
    "import copy\n",
    "import keyboard\n",
    "import time\n",
    "import json"
   ]
  },
  {
   "cell_type": "markdown",
   "metadata": {},
   "source": [
    "TODO:\n",
    "- GET SQUARE SIZE AT EVERY TIME STEP BY LOOKING IN CG-CONTAINER AND DIVIDING BY 8"
   ]
  },
  {
   "cell_type": "markdown",
   "metadata": {},
   "source": [
    "MVP CONTAINS: \n",
    "\n",
    "- FUNCTIONALITY TO PLAY FROM THE START\n",
    "- MINIMALIST GUI\n",
    "- FUNCTIONALITY FOR BLACK AND WHITE\n",
    "- NO READING OUT OF PRIOR MOVES\n",
    "- NO READING OUT OF TIME LEFT\n",
    "\n",
    "\n",
    "IMPROVED PRODUCT (PRIORITY ORDER)\n",
    "- READING OUT OF TIME EVERY MIN OR ON REQUEST (UP ARROW?)\n",
    "- READ LAST MOVE (LEFT ARROW?)\n",
    "- READ LAST X MOVES?\n",
    "- START AND PAUSE BLIND MODE\n",
    "- PLAY CHEAT MODE"
   ]
  },
  {
   "cell_type": "markdown",
   "metadata": {},
   "source": [
    "cd C:\\Program Files (x86)\\Google\\Chrome\\Application\n",
    "\n",
    "chrome.exe --remote-debugging-port=9250 --user-data-dir=\"c:\\users\\Charl\\chromedriver\""
   ]
  },
  {
   "cell_type": "code",
   "execution_count": 95,
   "metadata": {},
   "outputs": [],
   "source": [
    "url = \"https://lichess.org\"\n",
    "ser = Service(\"C:\\\\Users\\\\Charl\\\\chromedriver.exe\")\n",
    "opts = Options()\n",
    "opts.add_experimental_option('debuggerAddress', 'localhost:9250')\n",
    "driver = webdriver.Chrome(service= ser, options=opts)\n",
    "driver.get(url)\n"
   ]
  },
  {
   "cell_type": "code",
   "execution_count": 96,
   "metadata": {},
   "outputs": [],
   "source": [
    "base_expression = \"//cg-container/cg-board/\""
   ]
  },
  {
   "cell_type": "code",
   "execution_count": 98,
   "metadata": {},
   "outputs": [
    {
     "name": "stdout",
     "output_type": "stream",
     "text": [
      "color =  white\n"
     ]
    }
   ],
   "source": [
    "find_piece_example = \"//cg-board/piece[contains (@style, '(0px, 0px')]\"\n",
    "\n",
    "find_color_example = \"//div[@class='round__app__board main-board']/div [contains (@class, 'white')]\"\n",
    "\n",
    "try:\n",
    "    driver.find_element(By.XPATH, find_color_example)\n",
    "    color = 'white'\n",
    "except Exception:\n",
    "    color = 'black'\n",
    "    \n",
    "print ('color = ', color)"
   ]
  },
  {
   "cell_type": "code",
   "execution_count": 182,
   "metadata": {},
   "outputs": [],
   "source": [
    "if color == 'white':\n",
    "    move_dict = {}\n",
    "    for letter_index, letter in enumerate(['a', 'b', 'c', 'd', 'e', 'f', 'g','h']):\n",
    "        for number_index, number in enumerate([str(i) for i in range(8, 0, -1)]):\n",
    "            move_dict[letter + number] = f'({letter_index * 72:.0f}px, {number_index * 72:0.0f}px)'\n",
    "            \n",
    "elif color == 'black':\n",
    "    move_dict = {}\n",
    "    for letter_index, letter in enumerate(['h', 'g', 'f', 'e', 'd', 'c', 'b' ,'a']):\n",
    "        for number_index, number in enumerate([str(i) for i in range(1, 9)]):\n",
    "            move_dict[letter + number] = f'({letter_index * 72:.0f}px, {number_index * 72:0.0f}px)'\n",
    "            \n",
    "move_dict_reversed = {value: key for key, value in move_dict.items()}"
   ]
  },
  {
   "cell_type": "code",
   "execution_count": 100,
   "metadata": {},
   "outputs": [],
   "source": [
    "def make_move(move, move_dict=move_dict):\n",
    "    '''Executes the desired move on lichess\n",
    "    args:\n",
    "        [move]: string of 4 characters e.g a2a4'''\n",
    "    # Chain of events. add events then perform all with action.perform()\n",
    "    action = ActionChains(driver=driver) \n",
    "    \n",
    "    start_square = move[:2]\n",
    "    end_square = move[2:4]\n",
    "    \n",
    "    # Find pixel values\n",
    "    start_pixel_value = move_dict[start_square]\n",
    "    end_pixel_values = move_dict[end_square]\n",
    "    \n",
    "    ele = driver.find_element(By.XPATH, base_expression + f\"square[contains ('{start_pixel_value}')][2]\")\n",
    "\n",
    "    # Click and hold the piece we want to move\n",
    "    action.click_and_hold(ele)\n",
    "    action.perform()\n",
    "\n",
    "    # Wait for the move markers to show up, not sure what time necessary here (maybe 0)\n",
    "    time.sleep(0.01)\n",
    "\n",
    "    # Below will need to change to the pixel location\n",
    "    ele2 = driver.find_element(By.XPATH, base_expression + f\"square[contains ('{end_pixel_value}')][2]\")\n",
    "\n",
    "    # Move the mouse to the end square and drop\n",
    "    action.move_to_element(ele2)\n",
    "    action.release()\n",
    "    action.perform()"
   ]
  },
  {
   "cell_type": "code",
   "execution_count": 187,
   "metadata": {},
   "outputs": [],
   "source": [
    "import regex\n",
    "def check_if_my_turn():\n",
    "    '''Checks if we are to move'''\n",
    "    try:\n",
    "        driver.find_element(By.XPATH, \"//div[@class = 'rclock rclock-turn rclock-bottom']/div\")\n",
    "        return 1\n",
    "    except Exception:\n",
    "        return 0\n",
    "\n",
    "def get_previous_move():\n",
    "    \"\"\"Get the last move made (start & end square) if exists, else return None\"\"\"\n",
    "    try:\n",
    "        last_move_end = driver.find_element(\n",
    "            By.XPATH,\n",
    "            base_expression + \"square[contains (@class, 'last-move')][1]\"\n",
    "        ).get_attribute('style').split('translate')[1].split(';')[0]\n",
    "        \n",
    "        last_move_start = driver.find_element(\n",
    "            By.XPATH, \n",
    "            base_expression + \"square[contains (@class, 'last-move')][2]\"\n",
    "        ).get_attribute('style').split('translate')[1].split(';')[0]\n",
    "        \n",
    "        # Translating to string value now (might be unnecessary)\n",
    "        last_move_end = move_dict_reversed[last_move_end]\n",
    "        last_move_start = move_dict_reversed[last_move_start]\n",
    "        \n",
    "        return ''.join([last_move_start, last_move_end])\n",
    "    except Exception:\n",
    "        print('err')\n",
    "        return None\n",
    "        \n"
   ]
  },
  {
   "cell_type": "markdown",
   "metadata": {},
   "source": [
    "Troubleshooting below ####"
   ]
  },
  {
   "cell_type": "code",
   "execution_count": 189,
   "metadata": {},
   "outputs": [],
   "source": [
    "start_pixel_value = move_dict['d2']\n",
    "end_pixel_values = move_dict['d4']\n",
    "\n",
    "ele = driver.find_element(By.XPATH, base_expression + f\"piece[contains (@style, '(72px, 0px)')]\")\n",
    "\n",
    "\n",
    "temp_ele = driver.find_element(By.XPATH, base_expression + \"square[contains (@class, 'last-move')]\")\n",
    "action = ActionChains(driver=driver) \n",
    "action.move_to_element(ele)\n",
    "action.perform()"
   ]
  },
  {
   "cell_type": "code",
   "execution_count": 190,
   "metadata": {},
   "outputs": [
    {
     "name": "stdout",
     "output_type": "stream",
     "text": [
      "e7e5\n"
     ]
    }
   ],
   "source": [
    "print(get_previous_move())"
   ]
  },
  {
   "cell_type": "code",
   "execution_count": 84,
   "metadata": {},
   "outputs": [
    {
     "name": "stdout",
     "output_type": "stream",
     "text": [
      "give me the next move plze7e6\n",
      "wrong move\n",
      "give me the next move plza2a3\n"
     ]
    },
    {
     "ename": "InvalidSelectorException",
     "evalue": "Message: invalid selector: Unable to locate an element with the xpath expression //cg-container/cg-board/square[contains ('(504px, 72px)')][2] because of the following error:\nSyntaxError: Failed to execute 'evaluate' on 'Document': The string '//cg-container/cg-board/square[contains ('(504px, 72px)')][2]' is not a valid XPath expression.\n  (Session info: chrome=100.0.4896.60)\nStacktrace:\nBacktrace:\n\tOrdinal0 [0x00CA9943+2595139]\n\tOrdinal0 [0x00C3C9F1+2148849]\n\tOrdinal0 [0x00B34528+1066280]\n\tOrdinal0 [0x00B36E04+1076740]\n\tOrdinal0 [0x00B36CBE+1076414]\n\tOrdinal0 [0x00B36F50+1077072]\n\tOrdinal0 [0x00B60D1E+1248542]\n\tOrdinal0 [0x00B611CB+1249739]\n\tOrdinal0 [0x00B8D812+1431570]\n\tOrdinal0 [0x00B7BA34+1358388]\n\tOrdinal0 [0x00B8BAF2+1424114]\n\tOrdinal0 [0x00B7B806+1357830]\n\tOrdinal0 [0x00B56086+1204358]\n\tOrdinal0 [0x00B56F96+1208214]\n\tGetHandleVerifier [0x00E4B232+1658114]\n\tGetHandleVerifier [0x00F0312C+2411516]\n\tGetHandleVerifier [0x00D3F261+560433]\n\tGetHandleVerifier [0x00D3E366+556598]\n\tOrdinal0 [0x00C4286B+2173035]\n\tOrdinal0 [0x00C475F8+2192888]\n\tOrdinal0 [0x00C476E5+2193125]\n\tOrdinal0 [0x00C511FC+2232828]\n\tBaseThreadInitThunk [0x76616739+25]\n\tRtlGetFullPathName_UEx [0x777C8E7F+1215]\n\tRtlGetFullPathName_UEx [0x777C8E4D+1165]\n",
     "output_type": "error",
     "traceback": [
      "\u001b[1;31m---------------------------------------------------------------------------\u001b[0m",
      "\u001b[1;31mInvalidSelectorException\u001b[0m                  Traceback (most recent call last)",
      "\u001b[1;32m<ipython-input-84-a8076fc91cad>\u001b[0m in \u001b[0;36m<module>\u001b[1;34m\u001b[0m\n\u001b[0;32m     13\u001b[0m \u001b[1;33m\u001b[0m\u001b[0m\n\u001b[0;32m     14\u001b[0m         \u001b[1;32mif\u001b[0m \u001b[0mis_correct_move\u001b[0m\u001b[1;33m:\u001b[0m\u001b[1;33m\u001b[0m\u001b[1;33m\u001b[0m\u001b[0m\n\u001b[1;32m---> 15\u001b[1;33m             \u001b[0mmake_move\u001b[0m\u001b[1;33m(\u001b[0m\u001b[0mnew_move\u001b[0m\u001b[1;33m)\u001b[0m\u001b[1;33m\u001b[0m\u001b[1;33m\u001b[0m\u001b[0m\n\u001b[0m\u001b[0;32m     16\u001b[0m             \u001b[1;32mbreak\u001b[0m\u001b[1;33m\u001b[0m\u001b[1;33m\u001b[0m\u001b[0m\n\u001b[0;32m     17\u001b[0m         \u001b[1;32melse\u001b[0m\u001b[1;33m:\u001b[0m\u001b[1;33m\u001b[0m\u001b[1;33m\u001b[0m\u001b[0m\n",
      "\u001b[1;32m<ipython-input-80-be34e612a6c5>\u001b[0m in \u001b[0;36mmake_move\u001b[1;34m(move, move_dict)\u001b[0m\n\u001b[0;32m     13\u001b[0m     \u001b[0mend_pixel_values\u001b[0m \u001b[1;33m=\u001b[0m \u001b[0mmove_dict\u001b[0m\u001b[1;33m[\u001b[0m\u001b[0mend_square\u001b[0m\u001b[1;33m]\u001b[0m\u001b[1;33m\u001b[0m\u001b[1;33m\u001b[0m\u001b[0m\n\u001b[0;32m     14\u001b[0m \u001b[1;33m\u001b[0m\u001b[0m\n\u001b[1;32m---> 15\u001b[1;33m     \u001b[0mele\u001b[0m \u001b[1;33m=\u001b[0m \u001b[0mdriver\u001b[0m\u001b[1;33m.\u001b[0m\u001b[0mfind_element\u001b[0m\u001b[1;33m(\u001b[0m\u001b[0mBy\u001b[0m\u001b[1;33m.\u001b[0m\u001b[0mXPATH\u001b[0m\u001b[1;33m,\u001b[0m \u001b[0mbase_expression\u001b[0m \u001b[1;33m+\u001b[0m \u001b[1;34mf\"square[contains ('{start_pixel_value}')][2]\"\u001b[0m\u001b[1;33m)\u001b[0m\u001b[1;33m\u001b[0m\u001b[1;33m\u001b[0m\u001b[0m\n\u001b[0m\u001b[0;32m     16\u001b[0m \u001b[1;33m\u001b[0m\u001b[0m\n\u001b[0;32m     17\u001b[0m     \u001b[1;31m# Click and hold the piece we want to move\u001b[0m\u001b[1;33m\u001b[0m\u001b[1;33m\u001b[0m\u001b[1;33m\u001b[0m\u001b[0m\n",
      "\u001b[1;32mc:\\users\\charl\\appdata\\local\\programs\\python\\python38\\lib\\site-packages\\selenium\\webdriver\\remote\\webdriver.py\u001b[0m in \u001b[0;36mfind_element\u001b[1;34m(self, by, value)\u001b[0m\n\u001b[0;32m   1246\u001b[0m             \u001b[0mvalue\u001b[0m \u001b[1;33m=\u001b[0m \u001b[1;34m'[name=\"%s\"]'\u001b[0m \u001b[1;33m%\u001b[0m \u001b[0mvalue\u001b[0m\u001b[1;33m\u001b[0m\u001b[1;33m\u001b[0m\u001b[0m\n\u001b[0;32m   1247\u001b[0m \u001b[1;33m\u001b[0m\u001b[0m\n\u001b[1;32m-> 1248\u001b[1;33m         return self.execute(Command.FIND_ELEMENT, {\n\u001b[0m\u001b[0;32m   1249\u001b[0m             \u001b[1;34m'using'\u001b[0m\u001b[1;33m:\u001b[0m \u001b[0mby\u001b[0m\u001b[1;33m,\u001b[0m\u001b[1;33m\u001b[0m\u001b[1;33m\u001b[0m\u001b[0m\n\u001b[0;32m   1250\u001b[0m             'value': value})['value']\n",
      "\u001b[1;32mc:\\users\\charl\\appdata\\local\\programs\\python\\python38\\lib\\site-packages\\selenium\\webdriver\\remote\\webdriver.py\u001b[0m in \u001b[0;36mexecute\u001b[1;34m(self, driver_command, params)\u001b[0m\n\u001b[0;32m    423\u001b[0m         \u001b[0mresponse\u001b[0m \u001b[1;33m=\u001b[0m \u001b[0mself\u001b[0m\u001b[1;33m.\u001b[0m\u001b[0mcommand_executor\u001b[0m\u001b[1;33m.\u001b[0m\u001b[0mexecute\u001b[0m\u001b[1;33m(\u001b[0m\u001b[0mdriver_command\u001b[0m\u001b[1;33m,\u001b[0m \u001b[0mparams\u001b[0m\u001b[1;33m)\u001b[0m\u001b[1;33m\u001b[0m\u001b[1;33m\u001b[0m\u001b[0m\n\u001b[0;32m    424\u001b[0m         \u001b[1;32mif\u001b[0m \u001b[0mresponse\u001b[0m\u001b[1;33m:\u001b[0m\u001b[1;33m\u001b[0m\u001b[1;33m\u001b[0m\u001b[0m\n\u001b[1;32m--> 425\u001b[1;33m             \u001b[0mself\u001b[0m\u001b[1;33m.\u001b[0m\u001b[0merror_handler\u001b[0m\u001b[1;33m.\u001b[0m\u001b[0mcheck_response\u001b[0m\u001b[1;33m(\u001b[0m\u001b[0mresponse\u001b[0m\u001b[1;33m)\u001b[0m\u001b[1;33m\u001b[0m\u001b[1;33m\u001b[0m\u001b[0m\n\u001b[0m\u001b[0;32m    426\u001b[0m             response['value'] = self._unwrap_value(\n\u001b[0;32m    427\u001b[0m                 response.get('value', None))\n",
      "\u001b[1;32mc:\\users\\charl\\appdata\\local\\programs\\python\\python38\\lib\\site-packages\\selenium\\webdriver\\remote\\errorhandler.py\u001b[0m in \u001b[0;36mcheck_response\u001b[1;34m(self, response)\u001b[0m\n\u001b[0;32m    245\u001b[0m                 \u001b[0malert_text\u001b[0m \u001b[1;33m=\u001b[0m \u001b[0mvalue\u001b[0m\u001b[1;33m[\u001b[0m\u001b[1;34m'alert'\u001b[0m\u001b[1;33m]\u001b[0m\u001b[1;33m.\u001b[0m\u001b[0mget\u001b[0m\u001b[1;33m(\u001b[0m\u001b[1;34m'text'\u001b[0m\u001b[1;33m)\u001b[0m\u001b[1;33m\u001b[0m\u001b[1;33m\u001b[0m\u001b[0m\n\u001b[0;32m    246\u001b[0m             \u001b[1;32mraise\u001b[0m \u001b[0mexception_class\u001b[0m\u001b[1;33m(\u001b[0m\u001b[0mmessage\u001b[0m\u001b[1;33m,\u001b[0m \u001b[0mscreen\u001b[0m\u001b[1;33m,\u001b[0m \u001b[0mstacktrace\u001b[0m\u001b[1;33m,\u001b[0m \u001b[0malert_text\u001b[0m\u001b[1;33m)\u001b[0m  \u001b[1;31m# type: ignore[call-arg]  # mypy is not smart enough here\u001b[0m\u001b[1;33m\u001b[0m\u001b[1;33m\u001b[0m\u001b[0m\n\u001b[1;32m--> 247\u001b[1;33m         \u001b[1;32mraise\u001b[0m \u001b[0mexception_class\u001b[0m\u001b[1;33m(\u001b[0m\u001b[0mmessage\u001b[0m\u001b[1;33m,\u001b[0m \u001b[0mscreen\u001b[0m\u001b[1;33m,\u001b[0m \u001b[0mstacktrace\u001b[0m\u001b[1;33m)\u001b[0m\u001b[1;33m\u001b[0m\u001b[1;33m\u001b[0m\u001b[0m\n\u001b[0m\u001b[0;32m    248\u001b[0m \u001b[1;33m\u001b[0m\u001b[0m\n\u001b[0;32m    249\u001b[0m     \u001b[1;32mdef\u001b[0m \u001b[0m_value_or_default\u001b[0m\u001b[1;33m(\u001b[0m\u001b[0mself\u001b[0m\u001b[1;33m,\u001b[0m \u001b[0mobj\u001b[0m\u001b[1;33m:\u001b[0m \u001b[0mMapping\u001b[0m\u001b[1;33m[\u001b[0m\u001b[0m_KT\u001b[0m\u001b[1;33m,\u001b[0m \u001b[0m_VT\u001b[0m\u001b[1;33m]\u001b[0m\u001b[1;33m,\u001b[0m \u001b[0mkey\u001b[0m\u001b[1;33m:\u001b[0m \u001b[0m_KT\u001b[0m\u001b[1;33m,\u001b[0m \u001b[0mdefault\u001b[0m\u001b[1;33m:\u001b[0m \u001b[0m_VT\u001b[0m\u001b[1;33m)\u001b[0m \u001b[1;33m->\u001b[0m \u001b[0m_VT\u001b[0m\u001b[1;33m:\u001b[0m\u001b[1;33m\u001b[0m\u001b[1;33m\u001b[0m\u001b[0m\n",
      "\u001b[1;31mInvalidSelectorException\u001b[0m: Message: invalid selector: Unable to locate an element with the xpath expression //cg-container/cg-board/square[contains ('(504px, 72px)')][2] because of the following error:\nSyntaxError: Failed to execute 'evaluate' on 'Document': The string '//cg-container/cg-board/square[contains ('(504px, 72px)')][2]' is not a valid XPath expression.\n  (Session info: chrome=100.0.4896.60)\nStacktrace:\nBacktrace:\n\tOrdinal0 [0x00CA9943+2595139]\n\tOrdinal0 [0x00C3C9F1+2148849]\n\tOrdinal0 [0x00B34528+1066280]\n\tOrdinal0 [0x00B36E04+1076740]\n\tOrdinal0 [0x00B36CBE+1076414]\n\tOrdinal0 [0x00B36F50+1077072]\n\tOrdinal0 [0x00B60D1E+1248542]\n\tOrdinal0 [0x00B611CB+1249739]\n\tOrdinal0 [0x00B8D812+1431570]\n\tOrdinal0 [0x00B7BA34+1358388]\n\tOrdinal0 [0x00B8BAF2+1424114]\n\tOrdinal0 [0x00B7B806+1357830]\n\tOrdinal0 [0x00B56086+1204358]\n\tOrdinal0 [0x00B56F96+1208214]\n\tGetHandleVerifier [0x00E4B232+1658114]\n\tGetHandleVerifier [0x00F0312C+2411516]\n\tGetHandleVerifier [0x00D3F261+560433]\n\tGetHandleVerifier [0x00D3E366+556598]\n\tOrdinal0 [0x00C4286B+2173035]\n\tOrdinal0 [0x00C475F8+2192888]\n\tOrdinal0 [0x00C476E5+2193125]\n\tOrdinal0 [0x00C511FC+2232828]\n\tBaseThreadInitThunk [0x76616739+25]\n\tRtlGetFullPathName_UEx [0x777C8E7F+1215]\n\tRtlGetFullPathName_UEx [0x777C8E4D+1165]\n"
     ]
    }
   ],
   "source": [
    "previous_moves = []\n",
    "while True:\n",
    "    \n",
    "    \n",
    "    my_turn = check_if_my_turn()\n",
    "    \n",
    "\n",
    "    if my_turn:\n",
    "        \n",
    "        previous_move = get_previous_move()\n",
    "        \n",
    "        if not previous_move\n",
    "        \n",
    "        read_out_move(previous_moves[-1])\n",
    "        while True:\n",
    "\n",
    "            stockfish.set_position(previous_moves)\n",
    "            while True:\n",
    "                new_move = input('give me the next move plz')\n",
    "                if isinstance(new_move, str) & (len(new_move) == 4):\n",
    "                    break\n",
    "\n",
    "            is_correct_move = stockfish.is_move_correct(new_move)\n",
    "\n",
    "            if is_correct_move:\n",
    "                make_move(new_move)\n",
    "                break\n",
    "            else:\n",
    "                print('wrong move')\n",
    "\n"
   ]
  },
  {
   "cell_type": "code",
   "execution_count": 64,
   "metadata": {},
   "outputs": [],
   "source": [
    "action.perform()"
   ]
  }
 ],
 "metadata": {
  "kernelspec": {
   "display_name": "Python 3",
   "language": "python",
   "name": "python3"
  },
  "language_info": {
   "codemirror_mode": {
    "name": "ipython",
    "version": 3
   },
   "file_extension": ".py",
   "mimetype": "text/x-python",
   "name": "python",
   "nbconvert_exporter": "python",
   "pygments_lexer": "ipython3",
   "version": "3.8.2"
  }
 },
 "nbformat": 4,
 "nbformat_minor": 4
}
